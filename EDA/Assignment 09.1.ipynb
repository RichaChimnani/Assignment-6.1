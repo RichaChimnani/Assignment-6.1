{
 "cells": [
  {
   "cell_type": "markdown",
   "metadata": {},
   "source": [
    "Assignment 9\n"
   ]
  },
  {
   "cell_type": "markdown",
   "metadata": {},
   "source": [
    "Assignment 9.1\n",
    "\n",
    "#1. How-to-count-distance-to-the-previous-zero For each value, count the difference back to the previous zero \n",
    "   (or the start of the Series, whichever is closer) create a new column 'Y' \n",
    "\n",
    "Consider a DataFrame df where there is an integer column 'X' \n",
    "\n",
    "import pandas as pd \n",
    "\n",
    "df = pd.DataFrame({'X': [7, 2, 0, 3, 4, 2, 5, 0, 3, 4]})\n",
    "\n",
    "#2. Create a DatetimeIndex that contains each business day of 2015 and use it to index a Series of random numbers.\n",
    "#3. Find the sum of the values in s for every Wednesday.\n",
    "#4. Average For each calendar month.\n",
    "#5. For each group of four consecutive calendar months in s, find the date on which the highest value occurred."
   ]
  },
  {
   "cell_type": "code",
   "execution_count": 8,
   "metadata": {},
   "outputs": [],
   "source": [
    "import random\n",
    "import datetime\n",
    "import calendar\n",
    "from pandas.tseries.offsets import BDay\n",
    "import pandas as pd\n"
   ]
  },
  {
   "cell_type": "markdown",
   "metadata": {},
   "source": [
    "#1. How-to-count-distance-to-the-previous-zero For each value, count the difference back to the previous zero (or the start of the Series, whichever is closer) create a new column 'Y'\n",
    "\n",
    "Consider a DataFrame df where there is an integer column 'X'\n",
    "\n",
    "import pandas as pd\n",
    "\n",
    "df = pd.DataFrame({'X': [7, 2, 0, 3, 4, 2, 5, 0, 3, 4]})"
   ]
  },
  {
   "cell_type": "code",
   "execution_count": 14,
   "metadata": {},
   "outputs": [
    {
     "name": "stdout",
     "output_type": "stream",
     "text": [
      "\n",
      " 1.How-to-count-distance-to-the-previous-zero\n",
      "-------------------------------------------------------\n",
      "   X  Y\n",
      "0  7  1\n",
      "1  2  2\n",
      "2  0  0\n",
      "3  3  1\n",
      "4  4  2\n",
      "5  2  3\n",
      "6  5  4\n",
      "7  0  0\n",
      "8  3  1\n",
      "9  4  2\n"
     ]
    }
   ],
   "source": [
    "df = pd.DataFrame({'X': [7, 2, 0, 3, 4, 2, 5, 0, 3, 4]})\n",
    "\n",
    "X_flat = df.index[df['X']].tolist()  # flatning dataframe  \n",
    "\n",
    "prev_zero = [(X_flat[i::-1]+[0]).index(0) for i in range(len(X_flat))] # counting previous zero\n",
    "\n",
    "df['Y'] = prev_zero  \n",
    "\n",
    "print(\"\\n 1.How-to-count-distance-to-the-previous-zero\\n\",'-'*55, sep='')\n",
    "\n",
    "\n",
    "print(df)\n"
   ]
  },
  {
   "cell_type": "markdown",
   "metadata": {},
   "source": [
    "#2. Create a DatetimeIndex that contains each business day of 2015 and use it to index a Series of random numbers."
   ]
  },
  {
   "cell_type": "code",
   "execution_count": 15,
   "metadata": {},
   "outputs": [
    {
     "name": "stdout",
     "output_type": "stream",
     "text": [
      "\n",
      " 2. Create a DatetimeIndex that contains each business day of 2015 and use it to index a Series of random numbers.\n",
      "-------------------------------------------------------------------------------------------------------------------\n",
      "2015-01-01    0.946866\n",
      "2015-01-02    0.206752\n",
      "2015-01-05    0.784244\n",
      "2015-01-06    0.797292\n",
      "2015-01-07    0.524209\n",
      "2015-01-08    0.046691\n",
      "2015-01-09    0.458312\n",
      "2015-01-12    0.821293\n",
      "2015-01-13    0.263371\n",
      "2015-01-14    0.210078\n",
      "2015-01-15    0.033733\n",
      "2015-01-16    0.171303\n",
      "2015-01-19    0.968290\n",
      "2015-01-20    0.979649\n",
      "2015-01-21    0.406735\n",
      "2015-01-22    0.104877\n",
      "2015-01-23    0.499767\n",
      "2015-01-26    0.188153\n",
      "2015-01-27    0.336867\n",
      "2015-01-28    0.980150\n",
      "2015-01-29    0.160975\n",
      "2015-01-30    0.689320\n",
      "2015-02-02    0.329609\n",
      "2015-02-03    0.696716\n",
      "2015-02-04    0.685309\n",
      "2015-02-05    0.501850\n",
      "2015-02-06    0.660492\n",
      "2015-02-09    0.021460\n",
      "2015-02-10    0.171756\n",
      "2015-02-11    0.217302\n",
      "                ...   \n",
      "2015-11-20    0.495505\n",
      "2015-11-23    0.253298\n",
      "2015-11-24    0.452941\n",
      "2015-11-25    0.547585\n",
      "2015-11-26    0.202896\n",
      "2015-11-27    0.613910\n",
      "2015-11-30    0.639982\n",
      "2015-12-01    0.563354\n",
      "2015-12-02    0.604321\n",
      "2015-12-03    0.961935\n",
      "2015-12-04    0.224564\n",
      "2015-12-07    0.459388\n",
      "2015-12-08    0.088808\n",
      "2015-12-09    0.262002\n",
      "2015-12-10    0.398461\n",
      "2015-12-11    0.606893\n",
      "2015-12-14    0.902650\n",
      "2015-12-15    0.569170\n",
      "2015-12-16    0.554415\n",
      "2015-12-17    0.168838\n",
      "2015-12-18    0.127467\n",
      "2015-12-21    0.554519\n",
      "2015-12-22    0.579701\n",
      "2015-12-23    0.289091\n",
      "2015-12-24    0.426710\n",
      "2015-12-25    0.333935\n",
      "2015-12-28    0.674463\n",
      "2015-12-29    0.313434\n",
      "2015-12-30    0.022182\n",
      "2015-12-31    0.860060\n",
      "Freq: B, Length: 261, dtype: float64\n"
     ]
    }
   ],
   "source": [
    "\n",
    "date_slot = pd.date_range(start='2015-01-01', end='2015-12-31', freq='B') # defining start and end date\n",
    "\n",
    "s = pd.Series(np.random.rand(len(date_slot)), index=date_slot) # indexing series of random numbers\n",
    "\n",
    "print (\"\\n 2. Create a DatetimeIndex that contains each business day of 2015 and use it to index a Series of random numbers.\\n\",'-'*115, sep='')\n",
    "\n",
    "print(s)"
   ]
  },
  {
   "cell_type": "markdown",
   "metadata": {},
   "source": [
    "#3 Find the sum of the values in s for every Wednesday"
   ]
  },
  {
   "cell_type": "code",
   "execution_count": 16,
   "metadata": {},
   "outputs": [
    {
     "name": "stdout",
     "output_type": "stream",
     "text": [
      "\n",
      " 3. Find the sum of the values in s for every Wednesday\n",
      "-------------------------------------------------------\n"
     ]
    },
    {
     "data": {
      "text/plain": [
       "27.219518964273078"
      ]
     },
     "execution_count": 16,
     "metadata": {},
     "output_type": "execute_result"
    }
   ],
   "source": [
    "wednesday_sum = s.loc[s.index.weekday==2].sum()  # locking wednesday to sum \n",
    "\n",
    "print (\"\\n 3. Find the sum of the values in s for every Wednesday\\n\",'-'*55, sep='')\n",
    "\n",
    "wednesday_sum"
   ]
  },
  {
   "cell_type": "markdown",
   "metadata": {},
   "source": [
    "#4. Average For each calendar month"
   ]
  },
  {
   "cell_type": "code",
   "execution_count": 17,
   "metadata": {},
   "outputs": [
    {
     "name": "stdout",
     "output_type": "stream",
     "text": [
      "\n",
      " 4. Average For each calendar month \n",
      "-------------------------------------------------------\n"
     ]
    },
    {
     "data": {
      "text/plain": [
       "2015-01-31    0.480860\n",
       "2015-02-28    0.446167\n",
       "2015-03-31    0.510430\n",
       "2015-04-30    0.459261\n",
       "2015-05-31    0.490108\n",
       "2015-06-30    0.565789\n",
       "2015-07-31    0.559099\n",
       "2015-08-31    0.450804\n",
       "2015-09-30    0.469647\n",
       "2015-10-31    0.401622\n",
       "2015-11-30    0.485880\n",
       "2015-12-31    0.458537\n",
       "Freq: M, dtype: float64"
      ]
     },
     "execution_count": 17,
     "metadata": {},
     "output_type": "execute_result"
    }
   ],
   "source": [
    "monthly_av = s.resample('M').mean()  \n",
    "\n",
    "print (\"\\n 4. Average For each calendar month \\n\",'-'*55, sep='')\n",
    "\n",
    "monthly_av"
   ]
  },
  {
   "cell_type": "markdown",
   "metadata": {},
   "source": [
    "#5. For each group of four consecutive calendar months in s, find the date on which the highest value occurred."
   ]
  },
  {
   "cell_type": "code",
   "execution_count": 21,
   "metadata": {},
   "outputs": [
    {
     "name": "stdout",
     "output_type": "stream",
     "text": [
      "\n",
      " 5. For each group of four consecutive calendar months in s, find the date on which the highest value occurred. \n",
      "---------------------------------------------------------------------------------------------------------\n"
     ]
    },
    {
     "data": {
      "text/plain": [
       "2015-01-31   2015-01-28\n",
       "2015-05-31   2015-03-30\n",
       "2015-09-30   2015-07-09\n",
       "2016-01-31   2015-12-03\n",
       "dtype: datetime64[ns]"
      ]
     },
     "execution_count": 21,
     "metadata": {},
     "output_type": "execute_result"
    }
   ],
   "source": [
    "highest_in4months = s.groupby(pd.Grouper(freq='4M')).idxmax()\n",
    "\n",
    "print (\"\\n 5. For each group of four consecutive calendar months in s, find the date on which the highest value occurred. \\n\",'-'*105, sep='')\n",
    "\n",
    "highest_in4months\n"
   ]
  }
 ],
 "metadata": {
  "kernelspec": {
   "display_name": "Python 3",
   "language": "python",
   "name": "python3"
  },
  "language_info": {
   "codemirror_mode": {
    "name": "ipython",
    "version": 3
   },
   "file_extension": ".py",
   "mimetype": "text/x-python",
   "name": "python",
   "nbconvert_exporter": "python",
   "pygments_lexer": "ipython3",
   "version": "3.6.4"
  }
 },
 "nbformat": 4,
 "nbformat_minor": 2
}
